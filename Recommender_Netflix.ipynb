{
  "cells": [
    {
      "cell_type": "markdown",
      "metadata": {
        "id": "view-in-github",
        "colab_type": "text"
      },
      "source": [
        "<a href=\"https://colab.research.google.com/github/atlmapguy/netflix/blob/main/Recommender_Netflix.ipynb\" target=\"_parent\"><img src=\"https://colab.research.google.com/assets/colab-badge.svg\" alt=\"Open In Colab\"/></a>"
      ]
    },
    {
      "cell_type": "code",
      "execution_count": null,
      "metadata": {
        "colab": {
          "base_uri": "https://localhost:8080/",
          "height": 35
        },
        "id": "Vv7b64wl_y_T",
        "outputId": "b6ef8801-a56d-44e5-b737-c7431115c6b3"
      },
      "outputs": [
        {
          "output_type": "execute_result",
          "data": {
            "text/plain": [
              "'/content'"
            ],
            "application/vnd.google.colaboratory.intrinsic+json": {
              "type": "string"
            }
          },
          "metadata": {},
          "execution_count": 1
        }
      ],
      "source": [
        "pwd"
      ]
    },
    {
      "cell_type": "code",
      "execution_count": null,
      "metadata": {
        "id": "qMvAx73g_y_a"
      },
      "outputs": [],
      "source": [
        "import os"
      ]
    },
    {
      "cell_type": "code",
      "execution_count": null,
      "metadata": {
        "colab": {
          "base_uri": "https://localhost:8080/",
          "height": 165
        },
        "id": "RMlop5ip_y_c",
        "outputId": "4ecd635c-a9e2-45c0-cf99-8ab1d5fe078d"
      },
      "outputs": [
        {
          "output_type": "error",
          "ename": "FileNotFoundError",
          "evalue": "ignored",
          "traceback": [
            "\u001b[0;31m---------------------------------------------------------------------------\u001b[0m",
            "\u001b[0;31mFileNotFoundError\u001b[0m                         Traceback (most recent call last)",
            "\u001b[0;32m<ipython-input-4-f47e729ff6d1>\u001b[0m in \u001b[0;36m<module>\u001b[0;34m()\u001b[0m\n\u001b[0;32m----> 1\u001b[0;31m \u001b[0mos\u001b[0m\u001b[0;34m.\u001b[0m\u001b[0mchdir\u001b[0m\u001b[0;34m(\u001b[0m\u001b[0;34m'C:/Users/kevin/Documents/UoL/CSE621'\u001b[0m\u001b[0;34m)\u001b[0m\u001b[0;34m\u001b[0m\u001b[0;34m\u001b[0m\u001b[0m\n\u001b[0m",
            "\u001b[0;31mFileNotFoundError\u001b[0m: [Errno 2] No such file or directory: 'C:/Users/kevin/Documents/UoL/CSE621'"
          ]
        }
      ],
      "source": [
        "os.chdir('C:/Users/kevin/Documents/UoL/CSE621')"
      ]
    },
    {
      "cell_type": "code",
      "execution_count": null,
      "metadata": {
        "id": "zZJ_qny9_y_d"
      },
      "outputs": [],
      "source": [
        "pwd"
      ]
    },
    {
      "cell_type": "code",
      "execution_count": null,
      "metadata": {
        "id": "_psZrAHR_y_e"
      },
      "outputs": [],
      "source": [
        "conda install -c conda-forge scikit-surprise"
      ]
    },
    {
      "cell_type": "code",
      "execution_count": null,
      "metadata": {
        "id": "Qb9j36Sb_y_f"
      },
      "outputs": [],
      "source": [
        "pip install surprise"
      ]
    },
    {
      "cell_type": "code",
      "execution_count": null,
      "metadata": {
        "id": "avJNo1u1_y_g"
      },
      "outputs": [],
      "source": [
        "import pandas as pd\n",
        "import numpy as np\n",
        "from scipy.sparse import csr_matrix\n",
        "import matplotlib.pyplot as plt\n",
        "import seaborn as sns\n",
        "from surprise import Reader, Dataset, SVD \n",
        "from surprise.model_selection import  cross_validate, split\n",
        "sns.set_style(\"ticks\")"
      ]
    },
    {
      "cell_type": "code",
      "execution_count": null,
      "metadata": {
        "id": "Z_ni9byB_y_i"
      },
      "outputs": [],
      "source": [
        "# Load the data from one of the CSVs and create dataframes\n",
        "df = pd.read_csv('combined_data_1.txt', header = None, names = ['Id_Cust', 'Rating'], usecols = [0,1])\n",
        "\n",
        "df['Rating'] = df['Rating'].astype(float)\n",
        "\n",
        "print('Dataset rows and columns: ' + str(df.shape))\n",
        "print('We print the first 11 observations to have an idea of how the dataset looks like:')\n",
        "print(df.iloc[:10])"
      ]
    },
    {
      "cell_type": "code",
      "execution_count": null,
      "metadata": {
        "id": "4vUv6pio_y_k"
      },
      "outputs": [],
      "source": [
        "df['Rating'].describe()"
      ]
    },
    {
      "cell_type": "code",
      "execution_count": null,
      "metadata": {
        "id": "mtmBwLgl_y_m"
      },
      "outputs": [],
      "source": [
        "df.Rating.describe()"
      ]
    },
    {
      "cell_type": "code",
      "execution_count": null,
      "metadata": {
        "id": "_zfQnvKS_y_m"
      },
      "outputs": [],
      "source": [
        "p = df.groupby('Rating')['Rating'].agg(['count'])\n",
        "\n",
        "# movie count\n",
        "count_movie = df.isnull().sum()[1]\n",
        "\n",
        "# customer count\n",
        "count_cust = df['Id_Cust'].nunique() - count_movie\n",
        "\n",
        "# rating count\n",
        "rating_count = df['Id_Cust'].count() - count_movie\n",
        "\n",
        "ax = p.plot(kind = 'barh', figsize = (15,10), color= 'black')\n",
        "plt.title('Total pool: {:,} Movies, {:,} customers, {:,} ratings given'.format(count_movie, count_cust, rating_count), fontsize=20)\n",
        "plt.axis('on')\n",
        "\n",
        "for i in range(1,6):\n",
        "    ax.text(p.iloc[i-1][0]/4, i-1, 'Rating {}: {:.0f}%'.format(i, p.iloc[i-1][0]*100 / p.sum()[0]), color = 'white', weight = 'bold')\n",
        "    plt.show()"
      ]
    },
    {
      "cell_type": "code",
      "execution_count": null,
      "metadata": {
        "id": "jbQXHNe9_y_o"
      },
      "outputs": [],
      "source": [
        "df['Rating'].describe()"
      ]
    },
    {
      "cell_type": "code",
      "execution_count": null,
      "metadata": {
        "id": "pzD8IPS__y_p"
      },
      "outputs": [],
      "source": [
        "df_new = pd.DataFrame(pd.isnull(df.Rating))\n",
        "df_new = df_new[df_new['Rating'] == True]\n",
        "df_new = df_new.reset_index()\n",
        "\n",
        "movie_np = []\n",
        "movie_id = 1\n",
        "\n",
        "for i,j in zip(df_new['index'][1:],df_new['index'][:-1]):\n",
        "   \n",
        "    temp = np.full((1,i-j-1), movie_id)\n",
        "    movie_np = np.append(movie_np, temp)\n",
        "    movie_id += 1\n",
        "\n",
        "\n",
        "last_record = np.full((1,len(df) - df_new.iloc[-1, 0] - 1),movie_id)\n",
        "movie_np = np.append(movie_np, last_record)\n",
        "\n",
        "print('Movie numpy: {}'.format(movie_np))\n",
        "print('Length: {}'.format(len(movie_np)))"
      ]
    },
    {
      "cell_type": "code",
      "execution_count": null,
      "metadata": {
        "id": "NA0r_4NL_y_q"
      },
      "outputs": [],
      "source": [
        "df_new"
      ]
    },
    {
      "cell_type": "code",
      "execution_count": null,
      "metadata": {
        "id": "jO9Lg0sd_y_r"
      },
      "outputs": [],
      "source": [
        "df = df[pd.notnull(df['Rating'])]\n",
        "\n",
        "df['Movie_Id'] = movie_np.astype(int)\n",
        "df['Id_Cust'] = df['Id_Cust'].astype(int)\n",
        "print('-Dataset examples-')\n",
        "print(df.iloc[::5000000, :])"
      ]
    },
    {
      "cell_type": "code",
      "execution_count": null,
      "metadata": {
        "id": "SZz11q0R_y_r"
      },
      "outputs": [],
      "source": [
        "#average number of ppl rated the movies\n",
        "\n",
        "# count number of ratings per user\n",
        "users = df.groupby('Id_Cust')['Movie_Id'].nunique()\n",
        "\n",
        "binwidth = 50\n",
        "users.hist(bins=np.arange(min(users), max(users) + binwidth, binwidth))    \n",
        "plt.xlabel('Number of ratings per user')\n",
        "plt.ylabel('Number of users')\n",
        "plt.title('Distribution of ratings count per user')"
      ]
    },
    {
      "cell_type": "code",
      "execution_count": null,
      "metadata": {
        "id": "gcwwBKLu_y_s"
      },
      "outputs": [],
      "source": [
        "f = ['count','mean']\n",
        "\n",
        "df_movie_summary = df.groupby('Movie_Id')['Rating'].agg(f)\n",
        "df_movie_summary.index = df_movie_summary.index.map(int)\n",
        "movie_benchmark = round(df_movie_summary['count'].quantile(0.8),0)\n",
        "drop_movie_list = df_movie_summary[df_movie_summary['count'] < movie_benchmark].index\n",
        "\n",
        "print('Movie minimum times of review: {}'.format(movie_benchmark))\n",
        "\n",
        "df_cust_summary = df.groupby('Id_Cust')['Rating'].agg(f)\n",
        "df_cust_summary.index = df_cust_summary.index.map(int)\n",
        "cust_benchmark = round(df_cust_summary['count'].quantile(0.8),0)\n",
        "drop_cust_list = df_cust_summary[df_cust_summary['count'] < cust_benchmark].index\n",
        "\n",
        "print('Customer minimum times of review: {}'.format(cust_benchmark))"
      ]
    },
    {
      "cell_type": "code",
      "execution_count": null,
      "metadata": {
        "id": "p2QfESDJ_y_t"
      },
      "outputs": [],
      "source": [
        "print('Original Shape: {}'.format(df.shape))\n",
        "df = df[~df['Movie_Id'].isin(drop_movie_list)]\n",
        "df = df[~df['Id_Cust'].isin(drop_cust_list)]\n",
        "print('After Trim Shape: {}'.format(df.shape))\n",
        "print('-Data Examples-')\n",
        "print(df.iloc[::5000000, :])"
      ]
    },
    {
      "cell_type": "code",
      "execution_count": null,
      "metadata": {
        "id": "nBJpnpIo_y_u"
      },
      "outputs": [],
      "source": [
        "df"
      ]
    },
    {
      "cell_type": "code",
      "execution_count": null,
      "metadata": {
        "id": "af1Q_Lkw_y_v"
      },
      "outputs": [],
      "source": [
        "min_movie_ratings = 10000\n",
        "filter_movies = (df['Movie_Id'].value_counts()>min_movie_ratings)\n",
        "filter_movies = filter_movies[filter_movies].index.tolist()\n",
        "\n",
        "# Filter sparse users\n",
        "min_user_ratings = 200\n",
        "filter_users = (df['Id_Cust'].value_counts()>min_user_ratings)\n",
        "filter_users = filter_users[filter_users].index.tolist()\n",
        "\n",
        "# Actual filtering\n",
        "df_filterd = df[(df['Movie_Id'].isin(filter_movies)) & (df['Id_Cust'].isin(filter_users))]\n",
        "del filter_movies, filter_users, min_movie_ratings, min_user_ratings\n",
        "print('Shape User-Ratings unfiltered:\\t{}'.format(df.shape))\n",
        "print('Shape User-Ratings filtered:\\t{}'.format(df_filterd.shape))"
      ]
    },
    {
      "cell_type": "code",
      "execution_count": null,
      "metadata": {
        "id": "Kma4a9HT_y_v"
      },
      "outputs": [],
      "source": [
        "df_filterd"
      ]
    },
    {
      "cell_type": "code",
      "execution_count": null,
      "metadata": {
        "scrolled": true,
        "id": "DJZUbWWT_y_w"
      },
      "outputs": [],
      "source": [
        "pip install -U html5lib==\"1.0b10\""
      ]
    },
    {
      "cell_type": "code",
      "execution_count": null,
      "metadata": {
        "id": "K4REt67Q_y_w"
      },
      "outputs": [],
      "source": [
        "df_title = pd.read_csv('movie_titles.csv', header=None)\n",
        "df_title.columns = ['Movie_Id', 'Year', 'Name','col_4', 'col_5', 'col_6']\n",
        "df_title.set_index('Movie_Id', inplace = True)\n",
        "print (df_title.head(10))"
      ]
    },
    {
      "cell_type": "code",
      "execution_count": null,
      "metadata": {
        "id": "Dd4oKWov_y_x"
      },
      "outputs": [],
      "source": [
        "#Evaluate the performance of the model\n",
        "reader = Reader()\n",
        "\n",
        "# We use first 100K rows for faster run time\n",
        "data = Dataset.load_from_df(df[['Id_Cust', 'Movie_Id', 'Rating']][:120000], reader)\n",
        "\n",
        "svd = SVD(n_epochs= 20, lr_all= 0.01)\n",
        "cross_validate(svd, data, measures=['RMSE', 'MAE'])"
      ]
    },
    {
      "cell_type": "code",
      "execution_count": null,
      "metadata": {
        "id": "awbbk3KF_y_y"
      },
      "outputs": [],
      "source": [
        "reader = Reader()\n",
        "\n",
        "svd = SVD(n_epochs= 10, lr_all= 0.01)\n",
        "\n",
        "#Parameters previously found using grid search\n",
        "\n",
        "user_2043213 = df_title.copy()\n",
        "user_2043213 = user_2043213.reset_index()\n",
        "user_2043213 = user_2043213[~user_2043213['Movie_Id'].isin(drop_movie_list)]\n",
        "\n",
        "\n",
        "data = Dataset.load_from_df(df_filterd[['Id_Cust', 'Movie_Id', 'Rating']], reader)\n",
        "\n",
        "trainset = data.build_full_trainset()\n",
        "svd.fit(trainset)\n",
        "\n",
        "print(\"SVD Results\")\n",
        "\n",
        "user_2043213['Estimate_Score'] = user_2043213['Movie_Id'].apply(lambda x: svd.predict(2043213, x).est)\n",
        "\n",
        "user_2043213 = user_2043213.drop('Movie_Id', axis = 1)\n",
        "\n",
        "user_2043213 = user_2043213.sort_values('Estimate_Score', ascending=False)\n",
        "print(user_2043213.head(10))"
      ]
    },
    {
      "cell_type": "code",
      "execution_count": null,
      "metadata": {
        "id": "PAqjLvKH_y_y"
      },
      "outputs": [],
      "source": [
        "from surprise import BaselineOnly\n",
        "#Evaluate the performance of the model\n",
        "reader = Reader()\n",
        "\n",
        "# Use first 120K rows for faster run time\n",
        "data = Dataset.load_from_df(df[['Id_Cust', 'Movie_Id', 'Rating']][:120000], reader)\n",
        "\n",
        "baselineonly = BaselineOnly()\n",
        "cross_validate(baselineonly, data, measures=['RMSE', 'MAE'])"
      ]
    },
    {
      "cell_type": "code",
      "execution_count": null,
      "metadata": {
        "id": "fnI7zJIQ_y_z"
      },
      "outputs": [],
      "source": [
        "from surprise import CoClustering\n",
        "#First evaluate the performance of the model\n",
        "reader = Reader()\n",
        "\n",
        "# Use first 120K rows for faster run time\n",
        "data = Dataset.load_from_df(df[['Id_Cust', 'Movie_Id', 'Rating']][:120000], reader)\n",
        "\n",
        "coclustering = CoClustering()\n",
        "cross_validate(coclustering, data, measures=['RMSE', 'MAE'])"
      ]
    },
    {
      "cell_type": "code",
      "execution_count": null,
      "metadata": {
        "id": "z30yOuQe_y_z"
      },
      "outputs": [],
      "source": [
        "from surprise import NMF\n",
        "#We first evaluate the performance of the model\n",
        "reader = Reader()\n",
        "\n",
        "# We use first 120K rows for faster run time\n",
        "data = Dataset.load_from_df(df[['Id_Cust', 'Movie_Id', 'Rating']][:120000], reader)\n",
        "\n",
        "nmf = NMF()\n",
        "cross_validate(nmf, data, measures=['RMSE', 'MAE'])"
      ]
    },
    {
      "cell_type": "code",
      "execution_count": null,
      "metadata": {
        "id": "he7p_-_5_y_0"
      },
      "outputs": [],
      "source": [
        "from surprise import NMF\n",
        "\n",
        "nmf = NMF()\n",
        "\n",
        "user_2649285 = df_title.copy()\n",
        "user_2649285 = user_2649285.reset_index()\n",
        "user_2649285 = user_2649285[~user_2649285['Movie_Id'].isin(drop_movie_list)]\n",
        "\n",
        "\n",
        "data = Dataset.load_from_df(df_filterd[['Id_Cust', 'Movie_Id', 'Rating']], reader)\n",
        "\n",
        "trainset = data.build_full_trainset()\n",
        "nmf.fit(trainset)\n",
        "\n",
        "print(\"NMF results\")\n",
        "\n",
        "user_2649285['Estimate_Score'] = user_2649285['Movie_Id'].apply(lambda x: nmf.predict(2649285, x).est)\n",
        "\n",
        "user_2649285 = user_2649285.drop('Movie_Id', axis = 1)\n",
        "\n",
        "user_2649285 = user_2649285.sort_values('Estimate_Score', ascending=False)\n",
        "print(user_2649285.head(10))"
      ]
    },
    {
      "cell_type": "code",
      "execution_count": null,
      "metadata": {
        "id": "BrMEDD8p_y_0"
      },
      "outputs": [],
      "source": [
        ""
      ]
    },
    {
      "cell_type": "code",
      "execution_count": null,
      "metadata": {
        "id": "fdU4smzC_y_0"
      },
      "outputs": [],
      "source": [
        ""
      ]
    }
  ],
  "metadata": {
    "kernelspec": {
      "display_name": "Python 3",
      "language": "python",
      "name": "python3"
    },
    "language_info": {
      "codemirror_mode": {
        "name": "ipython",
        "version": 3
      },
      "file_extension": ".py",
      "mimetype": "text/x-python",
      "name": "python",
      "nbconvert_exporter": "python",
      "pygments_lexer": "ipython3",
      "version": "3.8.3"
    },
    "colab": {
      "name": "Recommender_Netflix.ipynb",
      "provenance": [],
      "include_colab_link": true
    }
  },
  "nbformat": 4,
  "nbformat_minor": 0
}